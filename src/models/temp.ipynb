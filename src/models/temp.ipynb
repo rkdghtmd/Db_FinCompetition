{
 "cells": [
  {
   "cell_type": "code",
   "execution_count": null,
   "metadata": {},
   "outputs": [],
   "source": [
    "!pip install -r requirements.txt\n"
   ]
  },
  {
   "cell_type": "code",
   "execution_count": 3,
   "metadata": {},
   "outputs": [
    {
     "name": "stderr",
     "output_type": "stream",
     "text": [
      "c:\\Users\\rkdgh\\.conda\\envs\\Db_FinCompetition\\lib\\site-packages\\tqdm\\auto.py:21: TqdmWarning: IProgress not found. Please update jupyter and ipywidgets. See https://ipywidgets.readthedocs.io/en/stable/user_install.html\n",
      "  from .autonotebook import tqdm as notebook_tqdm\n"
     ]
    },
    {
     "name": "stdout",
     "output_type": "stream",
     "text": [
      "PyTorch Version: 2.3.1\n",
      "Transformers Version: 4.47.0\n",
      "CUDA Available: True\n"
     ]
    }
   ],
   "source": [
    "import torch\n",
    "import transformers\n",
    "\n",
    "print(\"PyTorch Version:\", torch.__version__)\n",
    "print(\"Transformers Version:\", transformers.__version__)\n",
    "print(\"CUDA Available:\", torch.cuda.is_available()) #GPU 사용 가능한지"
   ]
  },
  {
   "cell_type": "code",
   "execution_count": 5,
   "metadata": {},
   "outputs": [
    {
     "name": "stdout",
     "output_type": "stream",
     "text": [
      "Text: The company reported a significant increase in revenue this quarter.\n",
      "Predicted Sentiment: positive\n",
      "--------------------------------------------------\n",
      "Text: The market is experiencing unprecedented volatility.\n",
      "Predicted Sentiment: negative\n",
      "--------------------------------------------------\n",
      "Text: The company's stock price dropped sharply due to the disappointing earnings report.\n",
      "Predicted Sentiment: negative\n",
      "--------------------------------------------------\n"
     ]
    }
   ],
   "source": [
    "import torch\n",
    "from transformers import AutoTokenizer, AutoModelForSequenceClassification\n",
    "\n",
    "# FinBERT 모델과 토크나이저 로드\n",
    "model_name = \"yiyanghkust/finbert-tone\"\n",
    "tokenizer = AutoTokenizer.from_pretrained(model_name)\n",
    "model = AutoModelForSequenceClassification.from_pretrained(model_name)\n",
    "\n",
    "# 입력 텍스트 (금융 뉴스나 보고서의 예문)\n",
    "texts = [\n",
    "    \"The company reported a significant increase in revenue this quarter.\",\n",
    "    \"The market is experiencing unprecedented volatility.\",\n",
    "    \"The company's stock price dropped sharply due to the disappointing earnings report.\"\n",
    "]\n",
    "\n",
    "# 텍스트 토큰화 및 텐서 변환\n",
    "inputs = tokenizer(texts, return_tensors=\"pt\", padding=True, truncation=True, max_length=512)\n",
    "\n",
    "# 모델 추론\n",
    "with torch.no_grad():\n",
    "    outputs = model(**inputs)\n",
    "\n",
    "# 결과 로짓(logits)을 클래스 레이블로 변환\n",
    "logits = outputs.logits\n",
    "predicted_classes = torch.argmax(logits, dim=1)\n",
    "\n",
    "# 감정 레이블 정의\n",
    "labels = [\"neutral\", \"positive\", \"negative\"]\n",
    "\n",
    "# 결과 출력\n",
    "for text, pred_class in zip(texts, predicted_classes):\n",
    "    print(f\"Text: {text}\")\n",
    "    print(f\"Predicted Sentiment: {labels[pred_class]}\")\n",
    "    print(\"-\" * 50)\n"
   ]
  }
 ],
 "metadata": {
  "kernelspec": {
   "display_name": "Db_FinCompetition",
   "language": "python",
   "name": "python3"
  },
  "language_info": {
   "codemirror_mode": {
    "name": "ipython",
    "version": 3
   },
   "file_extension": ".py",
   "mimetype": "text/x-python",
   "name": "python",
   "nbconvert_exporter": "python",
   "pygments_lexer": "ipython3",
   "version": "3.10.16"
  }
 },
 "nbformat": 4,
 "nbformat_minor": 2
}
